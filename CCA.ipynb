{
 "cells": [
  {
   "cell_type": "code",
   "execution_count": 1,
   "metadata": {},
   "outputs": [
    {
     "name": "stdout",
     "output_type": "stream",
     "text": [
      "Author        : S Monroe\n",
      "Version       : 3.12.4 | packaged by Anaconda, Inc. | (main, Jun 18 2024, 15:03:56\n",
      "NumPy lib     : 1.26.4\n",
      "Encoding      : utf-8\n",
      "Timestamp     : 1727275303.945772\n"
     ]
    }
   ],
   "source": [
    "from math import cos, sin, tan, acos, asin, atan, atan2, degrees, radians\n",
    "from numpy import reciprocal, pi, sqrt, angle, exp, log10\n",
    "import numpy as np\n",
    "import time, sys\n",
    "import scipy.constants as const\n",
    "\n",
    "#hextime=float.hex(time.time())\n",
    "\n",
    "# The foregoing is a clunky way to do this\n",
    "# Haven't spent a lot of time thinking through a more elegant solution\n",
    "\n",
    "def cosd(x):\n",
    "  return cos(radians(x))\n",
    "\n",
    "def sind(x):\n",
    "  return sin(radians(x))\n",
    "\n",
    "def tand(x):\n",
    "  return tan(radians(x))\n",
    "\n",
    "def acosd(x):\n",
    "  return degrees(acos(x))\n",
    "\n",
    "def asind(x):\n",
    "  return degrees(asin(x))\n",
    "\n",
    "def atand(x):\n",
    "  return degrees(atan(x))\n",
    "\n",
    "def atan2d(y, x):\n",
    "  return degrees(atan2(y, x))\n",
    "\n",
    "## Now define conversion functions:\n",
    "\n",
    "def P2R(radii, angles):\n",
    "    return radii * exp(1j*angles*(pi/180))\n",
    "\n",
    "def R2P(x):\n",
    "    return abs(x), angle(x, deg=True)\n",
    "\n",
    "\n",
    "print(\"Author        : S Monroe\")\n",
    "print(\"Version       :\",sys.version[0:66])\n",
    "print(\"NumPy lib     :\",np.version.version)\n",
    "print(\"Encoding      :\",sys.getdefaultencoding())\n",
    "print(\"Timestamp     :\",time.time())"
   ]
  },
  {
   "cell_type": "code",
   "execution_count": 2,
   "metadata": {},
   "outputs": [],
   "source": [
    "Temp=300.15\n",
    "VT=(const.k*Temp)/(const.e)"
   ]
  },
  {
   "cell_type": "code",
   "execution_count": 3,
   "metadata": {},
   "outputs": [],
   "source": [
    "R1=47.0E3\n",
    "R2=10.0E3\n",
    "v_IN=100E-3"
   ]
  },
  {
   "cell_type": "code",
   "execution_count": 4,
   "metadata": {},
   "outputs": [],
   "source": [
    "RVD=reciprocal(reciprocal(R1)+reciprocal(R2))\n",
    "#RB=220k # comment out this line when a voltage divider is used on the base\n",
    "RB=RVD # in a voltage divider RB is just R1 || R2  Comment out this line for standard CCA"
   ]
  },
  {
   "cell_type": "code",
   "execution_count": 5,
   "metadata": {},
   "outputs": [
    {
     "name": "stdout",
     "output_type": "stream",
     "text": [
      "r'e: 13.827813839256216 Ω\n",
      " IE: 0.0018705 A\n"
     ]
    }
   ],
   "source": [
    "RL=1.E6\n",
    "RE=1.E3\n",
    "VCC=15.\n",
    "VBE=700.E-3\n",
    "β=128.0\n",
    "IB=14.5E-6\n",
    "IE=(β+1)*IB\n",
    "rprime_e=VT/IE\n",
    "print(\"r'e:\",rprime_e,\"Ω\")\n",
    "print(\" IE:\",IE,\"A\")"
   ]
  },
  {
   "cell_type": "code",
   "execution_count": 6,
   "metadata": {},
   "outputs": [],
   "source": [
    "ZB=β*rprime_e+(β+1)*RE\n",
    "ZI=reciprocal(reciprocal(RB)+reciprocal(ZB))\n",
    "ZO=reciprocal(reciprocal(RE)+reciprocal(rprime_e))\n",
    "AV=RE/(RE+rprime_e)"
   ]
  },
  {
   "cell_type": "code",
   "execution_count": 7,
   "metadata": {},
   "outputs": [],
   "source": [
    "ZBP=β*(rprime_e+reciprocal(reciprocal(RE)+reciprocal(RL)))\n",
    "RIN=reciprocal(reciprocal(R1)+reciprocal(R2)+reciprocal(ZBP))"
   ]
  },
  {
   "cell_type": "code",
   "execution_count": 8,
   "metadata": {},
   "outputs": [
    {
     "name": "stdout",
     "output_type": "stream",
     "text": [
      "absolute voltage gain: 0.9863607866636724\n",
      "absolute current gain: -7.5922327589233785\n",
      "  absolute power gain: -7.488680676625368\n"
     ]
    }
   ],
   "source": [
    "Ai=-(β*RB)/(RB+ZB)\n",
    "Ap=Ai*AV\n",
    "print(\"absolute voltage gain:\",AV)\n",
    "print(\"absolute current gain:\",Ai)\n",
    "print(\"  absolute power gain:\",Ap)"
   ]
  },
  {
   "cell_type": "code",
   "execution_count": null,
   "metadata": {},
   "outputs": [],
   "source": []
  }
 ],
 "metadata": {
  "kernelspec": {
   "display_name": "Python 3 (ipykernel)",
   "language": "python",
   "name": "python3"
  },
  "language_info": {
   "codemirror_mode": {
    "name": "ipython",
    "version": 3
   },
   "file_extension": ".py",
   "mimetype": "text/x-python",
   "name": "python",
   "nbconvert_exporter": "python",
   "pygments_lexer": "ipython3",
   "version": "3.12.4"
  }
 },
 "nbformat": 4,
 "nbformat_minor": 4
}
